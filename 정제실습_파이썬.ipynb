{
  "nbformat": 4,
  "nbformat_minor": 0,
  "metadata": {
    "colab": {
      "name": "정제실습_파이썬.ipynb",
      "private_outputs": true,
      "provenance": [],
      "collapsed_sections": [],
      "authorship_tag": "ABX9TyOKvdckXE8o2m1bBIbyR/ve",
      "include_colab_link": true
    },
    "kernelspec": {
      "name": "python3",
      "display_name": "Python 3"
    },
    "language_info": {
      "name": "python"
    }
  },
  "cells": [
    {
      "cell_type": "markdown",
      "metadata": {
        "id": "view-in-github",
        "colab_type": "text"
      },
      "source": [
        "<a href=\"https://colab.research.google.com/github/dlgl091/codeit_project/blob/master/%EC%A0%95%EC%A0%9C%EC%8B%A4%EC%8A%B5_%ED%8C%8C%EC%9D%B4%EC%8D%AC.ipynb\" target=\"_parent\"><img src=\"https://colab.research.google.com/assets/colab-badge.svg\" alt=\"Open In Colab\"/></a>"
      ]
    },
    {
      "cell_type": "code",
      "metadata": {
        "id": "9oKiN3XcF4u7"
      },
      "source": [
        "import pandas as pd"
      ],
      "execution_count": null,
      "outputs": []
    },
    {
      "cell_type": "code",
      "metadata": {
        "id": "cBmEN6iZGNcg"
      },
      "source": [
        "df=pd.read_excel('실습_정제_파이썬.xlsx')"
      ],
      "execution_count": null,
      "outputs": []
    },
    {
      "cell_type": "markdown",
      "metadata": {
        "id": "Eauo1PvSLjbI"
      },
      "source": [
        ""
      ]
    },
    {
      "cell_type": "code",
      "metadata": {
        "id": "jMR1pF88GWEj",
        "collapsed": true
      },
      "source": [
        "df1=df.loc[::2] # 처음부터 끝까지 2 간격으로 띄어서 저장\n",
        "df1.head()"
      ],
      "execution_count": null,
      "outputs": []
    },
    {
      "cell_type": "code",
      "metadata": {
        "id": "y3dq9rJAGXLL",
        "collapsed": true
      },
      "source": [
        "df2=df.loc[1::2] # 콜론 앞 숫자는 시작 지점, 콜론 뒤 숫자는 간격을 의미\n",
        "df2.head()"
      ],
      "execution_count": null,
      "outputs": []
    },
    {
      "cell_type": "code",
      "metadata": {
        "id": "POSWMCFcJERk",
        "collapsed": true
      },
      "source": [
        "df1"
      ],
      "execution_count": null,
      "outputs": []
    },
    {
      "cell_type": "code",
      "metadata": {
        "id": "uJzZNn0dJFRy",
        "collapsed": true
      },
      "source": [
        "df1=df1.reset_index()\n",
        "df1=df1.rename({'생년월일/주소':'생년월일'},axis=1) # 홀수 df에만 생년월일만 있어서 열 제목 바꿔줌\n",
        "\n",
        "df2=df2.reset_index()\n",
        "df2=df2.rename({'생년월일/주소':'주소'},axis=1)\n",
        "\n",
        "df3=pd.concat([df1,df2],axis=1)\n",
        "df3.head()"
      ],
      "execution_count": null,
      "outputs": []
    },
    {
      "cell_type": "code",
      "metadata": {
        "collapsed": true,
        "id": "_t7DvsqkJpON"
      },
      "source": [
        "df3=df3.dropna(axis=1,how='all') # df의 모든 결측값을 삭제하라는 의미\n",
        "df3.head()"
      ],
      "execution_count": null,
      "outputs": []
    },
    {
      "cell_type": "code",
      "metadata": {
        "collapsed": true,
        "id": "G88gKeACKOZz"
      },
      "source": [
        "df3['시도명']=df3['시도명'].fillna(method='ffill')\n",
        "df3.head()"
      ],
      "execution_count": null,
      "outputs": []
    },
    {
      "cell_type": "code",
      "metadata": {
        "id": "LGJYG5OeLAFL"
      },
      "source": [
        "df3.to_excel('정제완료.xlsx')"
      ],
      "execution_count": null,
      "outputs": []
    }
  ]
}